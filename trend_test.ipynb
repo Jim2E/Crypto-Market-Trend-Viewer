{
 "cells": [
  {
   "cell_type": "code",
   "execution_count": null,
   "metadata": {},
   "outputs": [],
   "source": [
    "'''\n",
    "https://nomics.com/docs/#section/Introduction\n",
    "\n",
    "https://nomics.com/docs/#operation/getCandles\n",
    "\n",
    "https://forums.nomics.com/\n",
    "'''"
   ]
  },
  {
   "cell_type": "code",
   "execution_count": 1,
   "metadata": {},
   "outputs": [],
   "source": [
    "import requests\n",
    "import pandas as pd\n",
    "import json"
   ]
  },
  {
   "cell_type": "code",
   "execution_count": 44,
   "metadata": {},
   "outputs": [],
   "source": [
    "API_key = \"key=043804e7d8b3ebd4883bee7913979b09f1091813\"\n",
    "base_url = \"https://api.nomics.com/v1/markets?\" + API_key\n",
    "params = {\"currency\": \"ETH\"}"
   ]
  },
  {
   "cell_type": "code",
   "execution_count": 17,
   "metadata": {},
   "outputs": [
    {
     "data": {
      "text/plain": [
       "401"
      ]
     },
     "execution_count": 17,
     "metadata": {},
     "output_type": "execute_result"
    }
   ],
   "source": [
    "resp = requests.get(base_url, params=params)\n",
    "resp.status_code\n",
    "# dat = resp.json()\n"
   ]
  },
  {
   "cell_type": "code",
   "execution_count": 2,
   "metadata": {},
   "outputs": [
    {
     "name": "stdout",
     "output_type": "stream",
     "text": [
      "3014.72714913 \n",
      " 2022-04-26T01:31:00Z\n"
     ]
    }
   ],
   "source": [
    "import urllib.request\n",
    "base_url = \"https://api.nomics.com/v1/currencies/ticker?\"\n",
    "API_key = \"key=043804e7d8b3ebd4883bee7913979b09f1091813\"\n",
    "params = \"&ids=ETH&interval=1h,1d&platform-currency=ETH&per-page=100&page=1\"\n",
    "url = base_url+API_key+params\n",
    "resp = urllib.request.urlopen(url).read()\n",
    "# resp.json()\n",
    "dat = json.loads(resp)\n",
    "# df = pd.DataFrame(dat[1:], columns=dat[0])\n",
    "\n",
    "print(dat[0]['price'],\"\\n\",dat[0]['price_timestamp'])\n"
   ]
  },
  {
   "cell_type": "code",
   "execution_count": 32,
   "metadata": {},
   "outputs": [
    {
     "data": {
      "text/plain": [
       "b'[]\\n'"
      ]
     },
     "execution_count": 32,
     "metadata": {},
     "output_type": "execute_result"
    }
   ],
   "source": [
    "resp"
   ]
  },
  {
   "cell_type": "code",
   "execution_count": 3,
   "metadata": {},
   "outputs": [
    {
     "name": "stdout",
     "output_type": "stream",
     "text": [
      "3014.72714913 \n",
      " 2022-04-26T01:31:00Z\n"
     ]
    }
   ],
   "source": [
    "print(dat[0]['price'],\"\\n\",dat[0]['price_timestamp'])"
   ]
  },
  {
   "cell_type": "code",
   "execution_count": 4,
   "metadata": {},
   "outputs": [
    {
     "data": {
      "text/plain": [
       "{'volume': '26151322113.71',\n",
       " 'price_change': '144.61391151',\n",
       " 'price_change_pct': '0.0504',\n",
       " 'volume_change': '7930488600.79',\n",
       " 'volume_change_pct': '0.4352',\n",
       " 'market_cap_change': '17468433241.56',\n",
       " 'market_cap_change_pct': '0.0505'}"
      ]
     },
     "execution_count": 4,
     "metadata": {},
     "output_type": "execute_result"
    }
   ],
   "source": [
    "# dat[0].keys()\n",
    "# dat[0]['price']\n",
    "# dat[0]['price_timestamp']\n",
    "dat[0]['1d']"
   ]
  },
  {
   "cell_type": "code",
   "execution_count": null,
   "metadata": {},
   "outputs": [],
   "source": []
  },
  {
   "cell_type": "code",
   "execution_count": null,
   "metadata": {},
   "outputs": [],
   "source": [
    "url = \"https://api.nomics.com/v1/currencies/ticker?\" +API_key\n",
    "param = {\"ids\":\"BTC,ETH,XRP\",\"interval\":\"1d,30d\",\"convert\":\"EUR\",\"platform-currency\":\"ETH\",\"per-page\":\"100\",\"page\":\"1\"}\n",
    "resp = requests.get(base_url, params=params)\n",
    "resp.status_code"
   ]
  },
  {
   "cell_type": "code",
   "execution_count": null,
   "metadata": {},
   "outputs": [],
   "source": []
  }
 ],
 "metadata": {
  "interpreter": {
   "hash": "49bfe30cab1276d7cdaec0fe8c41c10a580c3d95c7cab70818e52a4afcf45965"
  },
  "kernelspec": {
   "display_name": "Python 3.9.12 ('text-mine')",
   "language": "python",
   "name": "python3"
  },
  "language_info": {
   "codemirror_mode": {
    "name": "ipython",
    "version": 3
   },
   "file_extension": ".py",
   "mimetype": "text/x-python",
   "name": "python",
   "nbconvert_exporter": "python",
   "pygments_lexer": "ipython3",
   "version": "3.9.12"
  },
  "orig_nbformat": 4
 },
 "nbformat": 4,
 "nbformat_minor": 2
}
